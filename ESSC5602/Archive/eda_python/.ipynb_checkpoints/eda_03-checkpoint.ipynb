{
 "cells": [
  {
   "cell_type": "code",
   "execution_count": 5,
   "metadata": {},
   "outputs": [],
   "source": [
    "# eda03_00a clear all variables and import vatious modules\n",
    "%reset -f\n",
    "import os\n",
    "from datetime import date\n",
    "from math import exp, pi, sin, sqrt, floor, ceil\n",
    "import numpy as np\n",
    "import scipy.linalg as la\n",
    "from matplotlib import pyplot as plt\n",
    "import matplotlib.cm as cm\n",
    "from matplotlib.colors import ListedColormap"
   ]
  },
  {
   "cell_type": "code",
   "execution_count": 8,
   "metadata": {},
   "outputs": [],
   "source": [
    "#eda03_00b: definition of the eda_draw() function\n",
    "\n",
    "# eda_draw function makes a \"pictorial matrix equation\"\n",
    "# arguments are vectors, matrices and strings\n",
    "# which are plotted in the order that the appear\n",
    "# except that strings starting with 'title ' are plotted\n",
    "# under the subseqeunt matrix or vector\n",
    "# always returns a status of 1\n",
    "\n",
    "def eda_draw(*argv):\n",
    "    bw = np.zeros((256,4));\n",
    "    v = 0.9*(256 - np.linspace( 0, 255, 256 ))/255;\n",
    "    bw[:,0] = v;\n",
    "    bw[:,1] = v;\n",
    "    bw[:,2] = v;\n",
    "    bw[:,3] = np.ones(256);\n",
    "    bwcmap = ListedColormap(bw);\n",
    "    # size of plot\n",
    "    W = 16;\n",
    "    H = 4;\n",
    "    fig1 = plt.figure(1);\n",
    "    # figsize width and height in inches\n",
    "    fig1.set_size_inches(W,H);\n",
    "    ax1 = plt.subplot(1,1,1);\n",
    "    plt.axis([0, W, -H/2, H/2]);\n",
    "    plt.axis('off');\n",
    "    LM = W/6;    # matrix width and heoght\n",
    "    LV = W/40;   # vector width\n",
    "    FS = 0.12;    # character width\n",
    "    TO = 0.4;    # title vertical offset\n",
    "    SP = 0.2;    # space between objects\n",
    "    LS = 0.2;    # leading space\n",
    "    p = LS; # starting x-position\n",
    "    istitle=0; # flags presence of a title\n",
    "    for a in argv:\n",
    "        if isinstance(a,np.ndarray):\n",
    "            sh = np.shape(a);\n",
    "            if len(sh) == 1:  # conversion to nx1 array\n",
    "                n = sh[0];\n",
    "                m = 1;\n",
    "                ap = a;\n",
    "                a = np.zeros((n,1));\n",
    "                a[:,0] = ap;\n",
    "            else:\n",
    "                n = sh[0];\n",
    "                m = sh[1];\n",
    "            if m==1:\n",
    "                pold=p;\n",
    "                left=p;\n",
    "                right=p+LV;\n",
    "                bottom=-LM/2;\n",
    "                top=LM/2;\n",
    "                plt.imshow( a, cmap=bwcmap, vmin=np.min(a), vmax=np.max(a), extent=(left,right,bottom,top) );\n",
    "                p = p+LV;\n",
    "                pm = (p+pold)/2;\n",
    "                if istitle:\n",
    "                    plt.text(pm,-(LM/2)-TO,titlestr,horizontalalignment='center');\n",
    "                    istitle=0;\n",
    "                p = p+SP;\n",
    "            else:\n",
    "                pold=p;\n",
    "                left=p;\n",
    "                right=p+LM;\n",
    "                bottom=-LM/2;\n",
    "                top=LM/2;\n",
    "                plt.imshow( a, cmap=bwcmap, vmin=np.min(a), vmax=np.max(a), extent=(left,right,bottom,top) );\n",
    "                p = p+LM;\n",
    "                pm = (p+pold)/2;\n",
    "                if istitle:\n",
    "                    plt.text(pm,-(LM/2)-TO,titlestr,horizontalalignment='center');\n",
    "                    istitle=0;\n",
    "                p = p+SP;\n",
    "        elif isinstance(a,str):\n",
    "            ns = len(a);\n",
    "            istitle=0;\n",
    "            if( ns>=6 ):\n",
    "                if 'title ' in a[0:6]:\n",
    "                    istitle=1;\n",
    "                    titlestr=a[6:];\n",
    "            if( istitle != 1):\n",
    "                plt.text(p,0,a);\n",
    "                p = p + ns*FS + SP;\n",
    "    plt.show();\n",
    "    return 1;"
   ]
  },
  {
   "cell_type": "code",
   "execution_count": 9,
   "metadata": {},
   "outputs": [
    {
     "data": {
      "image/png": "[encoded data removed]",
      "text/plain": [
       "<Figure size 1152x288 with 1 Axes>"
      ]
     },
     "metadata": {
      "needs_background": "light"
     },
     "output_type": "display_data"
    }
   ],
   "source": [
    "# eda03_00c: example of calling eda_draw()\n",
    "\n",
    "# make the matrix equation y = M x\n",
    "N=11;\n",
    "x = np.zeros((N,1));\n",
    "x[:,0] = np.linspace(0,N-1,N);\n",
    "M = np.matmul(x,x.T);\n",
    "y = np.matmul(M,x);\n",
    "\n",
    "# pictorially plot it\n",
    "eda_draw('title y',y, '=', 'title M', M, 'title x', x);"
   ]
  },
  {
   "cell_type": "code",
   "execution_count": 5,
   "metadata": {},
   "outputs": [
    {
     "name": "stdout",
     "output_type": "stream",
     "text": [
      "mode [1.5]\n"
     ]
    }
   ],
   "source": [
    "# eda03_01  mode of p(d)\n",
    "\n",
    "# define an exemplary p(d)\n",
    "N=15;\n",
    "Dd = 1.0;\n",
    "d = np.zeros((N,1));\n",
    "d[:,0] = Dd*np.linspace(0, N-1, N) + 0.5*Dd;\n",
    "p = np.zeros((N,1));\n",
    "p[:,0] = [5.00, 15.00, 10.00, 10.00, 10.00, 5.00, 5.00, 5.00, 5.00, 5.00, 5.00, 5.00, 5.00, 5.00, 5.00];\n",
    "\n",
    "# normalise so integral is unity\n",
    "p = p / (Dd*np.sum(p));\n",
    "\n",
    "# mode is maximum\n",
    "k = np.argmax(p);\n",
    "dmode = d[k];\n",
    "print('mode', dmode );\n"
   ]
  },
  {
   "cell_type": "code",
   "execution_count": 7,
   "metadata": {},
   "outputs": [
    {
     "name": "stdout",
     "output_type": "stream",
     "text": [
      "median [4.5]\n"
     ]
    }
   ],
   "source": [
    "# eda03_02 median of p(d)\n",
    "\n",
    "# define an exemplary p(d)\n",
    "N=15;\n",
    "Dd = 1.0;\n",
    "d = np.zeros((N,1));\n",
    "d[:,0] = Dd*np.linspace(0, N-1, N) + 0.5*Dd;\n",
    "p = np.zeros((N,1));\n",
    "p[:,0] = [5.00, 15.00, 10.00, 10.00, 10.00, 5.00, 5.00, 5.00, 5.00, 5.00, 5.00, 5.00, 5.00, 5.00, 5.00];\n",
    "\n",
    "# normalise so integral is unity\n",
    "p = p / (Dd*np.sum(p));\n",
    "\n",
    "# median is 50% area point\n",
    "P = np.cumsum(p);\n",
    "for i in range(N):\n",
    "    if P[i] >= 0.5:\n",
    "        dmedian = d[i];\n",
    "        break;\n",
    "\n",
    "print('median', dmedian );"
   ]
  },
  {
   "cell_type": "code",
   "execution_count": 9,
   "metadata": {},
   "outputs": [
    {
     "name": "stdout",
     "output_type": "stream",
     "text": [
      "mean 6.300000000000001\n"
     ]
    }
   ],
   "source": [
    "# eda03_03 mean of p(d)\n",
    "\n",
    "# define an exemplary p(d)\n",
    "N=15;\n",
    "Dd = 1.0;\n",
    "d = np.zeros((N,1));\n",
    "d[:,0] = Dd*np.linspace(0, N-1, N) + 0.5*Dd;\n",
    "p = np.zeros((N,1));\n",
    "p[:,0] = [5.00, 15.00, 10.00, 10.00, 10.00, 5.00, 5.00, 5.00, 5.00, 5.00, 5.00, 5.00, 5.00, 5.00, 5.00];\n",
    "\n",
    "# normalise so integral is unity\n",
    "p = p / (Dd*np.sum(p));\n",
    "\n",
    "# mean = (integral) d p(d) dd\n",
    "dmean = Dd*np.sum(np.multiply(p,d));\n",
    "print('mean', dmean );\n"
   ]
  },
  {
   "cell_type": "code",
   "execution_count": 11,
   "metadata": {},
   "outputs": [
    {
     "name": "stdout",
     "output_type": "stream",
     "text": [
      "sigma 4.319722213291036\n"
     ]
    }
   ],
   "source": [
    "# eda03_04 variance of p(d)\n",
    "\n",
    "# define an exemplary p(d)\n",
    "N=15;\n",
    "Dd = 1.0;\n",
    "d = np.zeros((N,1));\n",
    "d[:,0] = Dd*np.linspace(0, N-1, N) + 0.5*Dd;\n",
    "p = np.zeros((N,1));\n",
    "p[:,0] = [5.00, 15.00, 10.00, 10.00, 10.00, 5.00, 5.00, 5.00, 5.00, 5.00, 5.00, 5.00, 5.00, 5.00, 5.00];\n",
    "\n",
    "# normalise so integral is unity\n",
    "p = p / (Dd*np.sum(p));\n",
    "\n",
    "# mean = (integral) (d-dbar)^2 p(d) dd\n",
    "dbar = Dd*np.sum(np.multiply(p,d));\n",
    "q = np.power(d-dbar,2);\n",
    "sigma2 = Dd*np.sum(np.multiply(q,p));\n",
    "sigma = sqrt(sigma2);\n",
    "print('sigma', sigma );\n"
   ]
  },
  {
   "cell_type": "code",
   "execution_count": 15,
   "metadata": {},
   "outputs": [
    {
     "data": {
      "image/png": "[encoded data removed]",
      "text/plain": [
       "<Figure size 1152x288 with 1 Axes>"
      ]
     },
     "metadata": {
      "needs_background": "light"
     },
     "output_type": "display_data"
    }
   ],
   "source": [
    "# eda03_05 visualation of process of computing variance\n",
    "\n",
    "Nd = 101;\n",
    "d = np.zeros((Nd,1));\n",
    "d[:,0] = np.linspace(-30,30, Nd);\n",
    "Dd = d[2,0]-d[1,0];\n",
    "\n",
    "q = np.power(d,2);\n",
    "\n",
    "# probability at fixed sigma\n",
    "p = np.zeros((Nd,1));\n",
    "db = 0;\n",
    "sd = 5;\n",
    "sd2 = sd**2;\n",
    "g = (1/(sqrt(2*pi)*sd)) * np.exp( -0.5*np.power(d-db,2)/sd2  );\n",
    "p[:,0]=g.ravel();\n",
    "\n",
    "qp = np.multiply(q,p);\n",
    "\n",
    "# variance calcuation (just to check)\n",
    "sigma2 =Dd * np.sum(qp);\n",
    "sigma = sqrt(sigma2);\n",
    "\n",
    "# find nearest element of array to d=dbar-sigma, d=dbar and d=dbar+sigma\n",
    "v = np.abs(d-(db-sd));\n",
    "ilo = np.argmin(v);\n",
    "v = np.abs(d-db);\n",
    "imi = np.argmin(v);\n",
    "v = np.abs(d-(db+sd));\n",
    "ihi = np.argmin(v);\n",
    "\n",
    "# marker vector\n",
    "mk = np.zeros((Nd,1));\n",
    "mk[ilo,0] = 1;\n",
    "mk[imi,0] = 1;\n",
    "mk[ihi,0] = 1;\n",
    "\n",
    "eda_draw(mk,'title p', p, 'title d**2', q, 'title q*p', qp, mk);"
   ]
  },
  {
   "cell_type": "code",
   "execution_count": 19,
   "metadata": {},
   "outputs": [
    {
     "data": {
      "image/png": "[encoded data removed]",
      "text/plain": [
       "<Figure size 1152x288 with 1 Axes>"
      ]
     },
     "metadata": {
      "needs_background": "light"
     },
     "output_type": "display_data"
    }
   ],
   "source": [
    "# eda03_06 visualation of effect of changing mean on p.d.f.\n",
    "\n",
    "Ndbar=5;\n",
    "dbar = np.zeros((Ndbar,1));\n",
    "dbar[:,0] = np.linspace(10,30, Ndbar);\n",
    "\n",
    "Nd = 101;\n",
    "d = np.zeros((Nd,1));\n",
    "d[:,0] = np.linspace(0,40, Nd);\n",
    "\n",
    "# probability at fixed sigma\n",
    "p = np.zeros((Nd,Ndbar));\n",
    "sd = 5;\n",
    "sd2 = sd**2;\n",
    "titles = ();\n",
    "for i in range(Ndbar):\n",
    "    db = dbar[i];\n",
    "    g = (1/(sqrt(2*pi)*sd)) * np.exp( -0.5*np.power(d-db,2)/sd2  );\n",
    "    # seems silly, but we need to change \"ravel\" g from Ndx1 to Nd\n",
    "    p[:,i]=g.ravel();\n",
    "    t = \"title %.0f\" % db;\n",
    "    titles = titles + (t,);\n",
    "\n",
    "eda_draw(titles[0], p[:,0], titles[1], p[:,1], titles[2], p[:,2], titles[3], p[:,3], titles[4], p[:,4]);"
   ]
  },
  {
   "cell_type": "code",
   "execution_count": 22,
   "metadata": {},
   "outputs": [
    {
     "data": {
      "image/png": "[encoded data removed]",
      "text/plain": [
       "<Figure size 1152x288 with 1 Axes>"
      ]
     },
     "metadata": {
      "needs_background": "light"
     },
     "output_type": "display_data"
    }
   ],
   "source": [
    "# eda03_07 visualation of effect of changing variance on p.d.f.\n",
    "\n",
    "Nsigma=5;\n",
    "sigma = np.zeros((Nsigma,1));\n",
    "sigma[:,0] = [2.5, 5, 20, 20, 40];\n",
    "\n",
    "Nd = 101;\n",
    "d = np.zeros((Nd,1));\n",
    "d[:,0] = np.linspace(0,40, Nd);\n",
    "\n",
    "# probability at fixed sigma\n",
    "p = np.zeros((Nd,Nsigma));\n",
    "db = 20;\n",
    "titles = ();\n",
    "for i in range(Nsigma):\n",
    "    sd = sigma[i];\n",
    "    sd2 = sd**2;\n",
    "    g = (1/(sqrt(2*pi)*sd)) * np.exp( -0.5*np.power(d-db,2)/sd2  );\n",
    "    # seems silly, but we need to change \"ravel\" g from Ndx1 to Nd\n",
    "    p[:,i]=g.ravel();\n",
    "    t = \"title %.0f\" % sd\n",
    "    titles = titles + (t,);\n",
    "\n",
    "eda_draw(titles[0], p[:,0], titles[1], p[:,1], titles[2], p[:,2], titles[3], p[:,3], titles[4], p[:,4]);"
   ]
  },
  {
   "cell_type": "code",
   "execution_count": 25,
   "metadata": {},
   "outputs": [
    {
     "data": {
      "image/png": "[encoded data removed]",
      "text/plain": [
       "<Figure size 1152x288 with 1 Axes>"
      ]
     },
     "metadata": {
      "needs_background": "light"
     },
     "output_type": "display_data"
    }
   ],
   "source": [
    "# eda03_08 transformation of variables m = d^2\n",
    "\n",
    "Nd = 101;\n",
    "d = np.zeros((Nd,1));\n",
    "d[:,0] = np.linspace(0.01,1, Nd);\n",
    "Dd = d[2,0] - d[1,0];\n",
    "\n",
    "# uniform probability\n",
    "pd = np.ones((Nd,1))/Dd;\n",
    "\n",
    "Nm = 101;\n",
    "m = np.zeros((Nm,1));\n",
    "m[:,0] = np.linspace(0.01,1, Nm);\n",
    "Dm = m[2,0] - m[1,0];\n",
    "\n",
    "# uniform probability\n",
    "pm = 0.5*np.reciprocal(np.sqrt(m));\n",
    "\n",
    "eda_draw( 'title p(d)', pd, 'title p(m)', pm);"
   ]
  },
  {
   "cell_type": "code",
   "execution_count": 28,
   "metadata": {},
   "outputs": [
    {
     "data": {
      "image/png": "[encoded data removed]",
      "text/plain": [
       "<Figure size 1152x288 with 1 Axes>"
      ]
     },
     "metadata": {
      "needs_background": "light"
     },
     "output_type": "display_data"
    }
   ],
   "source": [
    "# eda03_09 joint p.f.d.\n",
    "\n",
    "# coordinate axes\n",
    "Nd1 = 101;\n",
    "d1 = np.zeros((Nd1,1));\n",
    "d1[:,0] = np.linspace(0,5, Nd1);\n",
    "Dd1 = d1[1,0] - d1[0,0];\n",
    "\n",
    "Nd2 = 101;\n",
    "d2 = np.zeros((Nd2,1));\n",
    "d2[:,0] = np.linspace(0,5,Nd2);\n",
    "Dd2 = d2[1,0] - d2[0,0];\n",
    "\n",
    "# 2D normal p.f.d. setup\n",
    "dbar1 = 1.5;\n",
    "dbar2 = 2.5;\n",
    "sigma1 = 0.25;\n",
    "sigma2 = 0.25;\n",
    "\n",
    "# 2-d Normal p.d.f.\n",
    "norm1 = (1/(sqrt(2*pi)*sigma1));\n",
    "norm2 = (1/(sqrt(2*pi)*sigma2));\n",
    "p1 = norm1 * np.exp( - np.power(d1-dbar1,2) / (2*sigma1*sigma1) );\n",
    "p2 = norm2 * np.exp( - np.power(d2-dbar2,2) / (2*sigma2*sigma2) );\n",
    "p = np.matmul( p1, p2.T );\n",
    "\n",
    "# integrate along d2-axis to get p2\n",
    "p_1 = np.zeros((Nd1,1));\n",
    "p_1[:,0] = Dd2*np.sum(p,axis=1);      \n",
    "        \n",
    "# integrate along d1-axis to get p2\n",
    "p_2 = np.zeros((Nd2,1));\n",
    "p_2[:,0] = Dd1*np.sum(p,axis=0);\n",
    "\n",
    "eda_draw( 'title p(d1,d2)', p, 'title p(d1)', p_1, 'title p(d2)', p_2);"
   ]
  },
  {
   "cell_type": "code",
   "execution_count": 33,
   "metadata": {},
   "outputs": [
    {
     "name": "stdout",
     "output_type": "stream",
     "text": [
      "area 0.9999999999999998\n"
     ]
    },
    {
     "data": {
      "image/png": "[encoded data removed]",
      "text/plain": [
       "<Figure size 1152x288 with 1 Axes>"
      ]
     },
     "metadata": {
      "needs_background": "light"
     },
     "output_type": "display_data"
    }
   ],
   "source": [
    "# eda03_10  normalising white p.d.f.\n",
    "\n",
    "# coordinate axes\n",
    "Nd1 = 101;\n",
    "d1 = np.zeros((Nd1,1));\n",
    "d1[:,0] = np.linspace(0,5, Nd1);\n",
    "Dd1 = d1[1,0] - d1[0,0];\n",
    "\n",
    "Nd2 = 101;\n",
    "d2 = np.zeros((Nd2,1));\n",
    "d2[:,0] = np.linspace(0,5, Nd2);\n",
    "Dd2 = d2[1,0] - d2[0,0];\n",
    "\n",
    "p = np.ones((Nd1, Nd2));\n",
    "norm = Dd1*Dd2*np.sum(p);\n",
    "p = p/norm;\n",
    "\n",
    "# area (should be 1)   \n",
    "A = Dd1*Dd2*np.sum(p);\n",
    "print('area',A);\n",
    "\n",
    "eda_draw( 'title p(d1,d2)', p);"
   ]
  },
  {
   "cell_type": "code",
   "execution_count": 36,
   "metadata": {},
   "outputs": [
    {
     "name": "stdout",
     "output_type": "stream",
     "text": [
      "area 0.999999999502085 0.999999999502085 0.9999999995020847\n",
      "dbar1 1.5 1.500000000034364 1.5000000000343636\n",
      "dbar2 2.5 2.4999999987552126 2.4999999987552117\n",
      "sigma1 0.25 0.24999999754719845 0.24999999754719845\n",
      "sigma2 0.25 0.24999999993776062 0.24999999993776062\n"
     ]
    }
   ],
   "source": [
    "# eda03_11, 12 and 13 constructing a joint p.f.d. and computing its mean and variance\n",
    "\n",
    "# coordinate axes\n",
    "Nd1 = 101;\n",
    "d1 = np.zeros((Nd1,1));\n",
    "d1[:,0] = np.linspace(0,5, Nd1);\n",
    "Dd1 = d1[1,0] - d1[0,0];\n",
    "\n",
    "Nd2 = 101;\n",
    "d2 = np.zeros((Nd2,1));\n",
    "d2[:,0] = np.linspace(0,5,Nd2);\n",
    "Dd2 = d2[1,0] - d2[0,0];\n",
    "\n",
    "# 2D normal p.f.d. setup\n",
    "dbar1 = 1.5;\n",
    "dbar2 = 2.5;\n",
    "sigma1 = 0.25;\n",
    "sigma2 = 0.25;\n",
    "\n",
    "# 2-d Normal p.d.f.\n",
    "norm1 = (1/(sqrt(2*pi)*sigma1));\n",
    "norm2 = (1/(sqrt(2*pi)*sigma2));\n",
    "p1 = norm1 * np.exp( - np.power(d1-dbar1,2) / (2*sigma1*sigma1) );\n",
    "p2 = norm2 * np.exp( - np.power(d2-dbar2,2) / (2*sigma2*sigma2) );\n",
    "p = np.matmul( p1, p2.T );\n",
    "\n",
    "# integrate along d2-axis to get p2\n",
    "p_1 = np.zeros((Nd1,1));\n",
    "p_1[:,0] = Dd2*np.sum(p,axis=1);      \n",
    "        \n",
    "# integrate along d1-axis to get p2\n",
    "p_2 = np.zeros((Nd2,1));\n",
    "p_2[:,0] = Dd1*np.sum(p,axis=0);\n",
    "\n",
    "# areas (should all be 1)     \n",
    "A = Dd1*Dd2*np.sum(p);\n",
    "A1 = Dd1*np.sum(p_1);\n",
    "A2 = Dd2*np.sum(p_2);\n",
    "\n",
    "# vectors of ones\n",
    "w1 = np.ones((Nd1,1));\n",
    "w2 = np.ones((Nd2,1));\n",
    "\n",
    "# eda03_12: means\n",
    "\n",
    "# mean along 1 axis, computed from p\n",
    "D1 = np.matmul( d1, w2.T );\n",
    "dbar_1 = Dd1*Dd2*np.sum( np.multiply(D1, p) );\n",
    "\n",
    "# mean along 1 axis, computed from p_1\n",
    "dbar_1a = Dd1*np.sum( np.multiply(d1, p_1) );\n",
    "\n",
    "# mean along 2 axis, computed from p\n",
    "D2 = np.matmul( w1, d2.T  );\n",
    "dbar_2 = Dd1*Dd2*np.sum( np.multiply(D2, p) );\n",
    "\n",
    "# mean along 2 axis, computed from p_2\n",
    "dbar_2a = Dd2*np.sum( np.multiply(d2, p_2) );\n",
    "\n",
    "# eda03_13: variances\n",
    "\n",
    "# variance along 1 axis, computed from p\n",
    "D1s = np.matmul( np.power(d1-dbar1,2), w2.T );\n",
    "sigma_1_squared = Dd1*Dd2*np.sum( np.multiply(D1s, p) );\n",
    "sigma_1 = sqrt(sigma_1_squared);\n",
    "\n",
    "# variance along 1 axis, computed from p1\n",
    "sigma_1a_squared = Dd1*np.sum( np.multiply( np.power(d1-dbar_1,2), p_1) );\n",
    "sigma_1a = sqrt(sigma_1_squared);\n",
    "\n",
    "# variance along 2 axis, computed from p\n",
    "D2s = np.matmul( w1, np.power(d2-dbar2,2).T  );\n",
    "sigma2_squared = Dd1*Dd2*np.sum( np.multiply(D2s, p) );\n",
    "sigma_2 = sqrt(sigma2_squared);\n",
    "\n",
    "# variance along 2 axis, computed from p2\n",
    "sigma_2a_squared = Dd2*np.sum( np.multiply( np.power(d2-dbar_2,2), p_2) );\n",
    "sigma_2a = sqrt(sigma_2a_squared);\n",
    "\n",
    "print('area',A, A1, A2);\n",
    "print('dbar1',dbar1, dbar_1, dbar_1a);\n",
    "print('dbar2',dbar2, dbar_2, dbar_2a);\n",
    "print('sigma1',sigma1, sigma_1, sigma_1a);\n",
    "print('sigma2',sigma2, sigma_2, sigma_2a);"
   ]
  },
  {
   "cell_type": "code",
   "execution_count": 39,
   "metadata": {},
   "outputs": [
    {
     "data": {
      "image/png": "[encoded data removed]",
      "text/plain": [
       "<Figure size 1152x288 with 1 Axes>"
      ]
     },
     "metadata": {
      "needs_background": "light"
     },
     "output_type": "display_data"
    }
   ],
   "source": [
    "# eda03_14 conditional p.f.d.\n",
    "\n",
    "# coordinate axes\n",
    "Nd1 = 101;\n",
    "d1 = np.zeros((Nd1,1));\n",
    "d1[:,0] = np.linspace(0,5, Nd1);\n",
    "Dd1 = d1[1,0] - d1[0,0];\n",
    "\n",
    "Nd2 = 101;\n",
    "d2 = np.zeros((Nd2,1));\n",
    "d2[:,0] = np.linspace(0,5,Nd2);\n",
    "Dd2 = d2[1,0] - d2[0,0];\n",
    "\n",
    "# 2D normal p.f.d. setup\n",
    "dbar1 = 1.5;\n",
    "dbar2 = 3.5;\n",
    "sigma1 = 0.75;\n",
    "sigma2 = 0.75;\n",
    "\n",
    "# 2-d Normal p.d.f.\n",
    "norm1 = (1/(sqrt(2*pi)*sigma1));\n",
    "norm2 = (1/(sqrt(2*pi)*sigma2));\n",
    "p1 = norm1 * np.exp( - np.power(d1-dbar1,2) / (2*sigma1*sigma1) );\n",
    "p2 = norm2 * np.exp( - np.power(d2-dbar2,2) / (2*sigma2*sigma2) );\n",
    "p = np.matmul( p1, p2.T );\n",
    "\n",
    "# integrate along d2-axis to get p2\n",
    "p_1 = np.zeros((Nd1,1));\n",
    "p_1[:,0] = Dd2*np.sum(p,axis=1);      \n",
    "        \n",
    "# integrate along d1-axis to get p2\n",
    "p_2 = np.zeros((Nd2,1));\n",
    "p_2[:,0] = Dd1*np.sum(p,axis=0);\n",
    "\n",
    "# vectors of ones\n",
    "w1 = np.ones((Nd1,1));\n",
    "w2 = np.ones((Nd2,1));\n",
    "\n",
    "# conditional p.d.f.: p(d1|d2) = p(d1,d2)/p2\n",
    "p1g2 = np.divide( p, np.matmul(w1,p_2.T));\n",
    "\n",
    "# conditional p.d.f.: p(d2|d1) = p(d1,d2)/p2\n",
    "p2g1 = np.divide( p, np.matmul(p_1,w2.T));\n",
    "\n",
    "eda_draw( 'title p(d1,d2)', p, 'title p(d1|d2)', p1g2, 'title p(d2|d1)', p2g1);"
   ]
  },
  {
   "cell_type": "code",
   "execution_count": 44,
   "metadata": {},
   "outputs": [
    {
     "data": {
      "image/png": "[encoded data removed]",
      "text/plain": [
       "<Figure size 1152x288 with 1 Axes>"
      ]
     },
     "metadata": {
      "needs_background": "light"
     },
     "output_type": "display_data"
    }
   ],
   "source": [
    "# eda03_15  Constructing Normal p.d.f. without for loop\n",
    "\n",
    "# coordinate axes\n",
    "Nd1 = 101;\n",
    "d1 = np.zeros((Nd1,1));\n",
    "d1[:,0] = np.linspace(0,5, Nd1);\n",
    "Dd1 = d1[1,0] - d1[0,0];\n",
    "\n",
    "Nd2 = 101;\n",
    "d2 = np.zeros((Nd2,1));\n",
    "d2[:,0] = np.linspace(0,5,Nd2);\n",
    "Dd2 = d2[1,0] - d2[0,0];\n",
    "\n",
    "# vectors of ones\n",
    "w1 = np.ones((Nd1,1));\n",
    "w2 = np.ones((Nd2,1));\n",
    "\n",
    "# 2D normal p.f.d. setup\n",
    "dbar1 = 1.5;\n",
    "dbar2 = 2.5;\n",
    "sigma1 = 0.25;\n",
    "sigma2 = 0.25;\n",
    "covar = 0.05;  # positive covariance\n",
    "covpos = covar;\n",
    "C = [ [sigma1**2, covar], [covar, sigma2**2]];\n",
    "Ci = la.inv(C);\n",
    "sqrtdet = sqrt(la.det(C));\n",
    "norm=(1/(2*pi*sqrtdet));  # normalization\n",
    "\n",
    "# Normal p.d.f.\n",
    "dd1 = d1-dbar1;\n",
    "dd2 = d2-dbar2;\n",
    "dd11 = np.power(dd1,2);\n",
    "dd22 = np.power(dd2,2);\n",
    "p=norm*np.exp(-0.5*Ci[0,0]*np.matmul(dd11,w2.T)-0.5*Ci[1,1]*np.matmul(w1,dd22.T)-Ci[0,1]*np.matmul(dd1,dd2.T));\n",
    "\n",
    "eda_draw( 'title cov +', p); "
   ]
  },
  {
   "cell_type": "code",
   "execution_count": 47,
   "metadata": {},
   "outputs": [
    {
     "name": "stdout",
     "output_type": "stream",
     "text": [
      "cov +: 0.05 0.049999999018879374\n",
      "cov -: -0.05 -0.049999999018879374\n",
      "cov 0: 0.0 -1.7347234759768074e-19\n"
     ]
    },
    {
     "data": {
      "image/png": "[encoded data removed]",
      "text/plain": [
       "<Figure size 1152x288 with 1 Axes>"
      ]
     },
     "metadata": {
      "needs_background": "light"
     },
     "output_type": "display_data"
    }
   ],
   "source": [
    "# eda03_16, 17  Constructing Normal p.d.f. with for loop and computing its covariance\n",
    "\n",
    "# coordinate axes\n",
    "Nd1 = 101;\n",
    "d1 = np.zeros((Nd1,1));\n",
    "d1[:,0] = np.linspace(0,5, Nd1);\n",
    "Dd1 = d1[1,0] - d1[0,0];\n",
    "\n",
    "Nd2 = 101;\n",
    "d2 = np.zeros((Nd2,1));\n",
    "d2[:,0] = np.linspace(0,5,Nd2);\n",
    "Dd2 = d2[1,0] - d2[0,0];\n",
    "\n",
    "# positive covariance\n",
    "# 2D normal p.f.d. setup\n",
    "dbar1 = 1.5;\n",
    "dbar2 = 2.5;\n",
    "sigma1 = 0.25;\n",
    "sigma2 = 0.25;\n",
    "covar = 0.05;\n",
    "covpos = covar;\n",
    "Cd = [ [sigma1**2, covar], [covar, sigma2**2]];\n",
    "Cdinv = la.inv(Cd);\n",
    "sqrtdet = sqrt(la.det(Cd));\n",
    "\n",
    "# eda03_16: constructing Normal p.d.f. with covariance\n",
    "# 2-d Normal p.d.f.\n",
    "p = np.zeros((Nd1,Nd2));\n",
    "dd = np.zeros((2,1));\n",
    "for i in range(Nd1):\n",
    "    for j in range(Nd2):\n",
    "        dd[:,0] = [ d1[i,0] - dbar1, d2[j,0] - dbar2 ];\n",
    "        E = np.matmul( np.matmul(dd.T,Cdinv), dd );\n",
    "        v = (1/(2*pi*sqrtdet)) * exp( -0.5*E );\n",
    "        p[i,j]=v;\n",
    "ppos = p;\n",
    "\n",
    "# genative covariance\n",
    "# 2D normal p.f.d. setup\n",
    "dbar1 = 1.5;\n",
    "dbar2 = 2.5;\n",
    "sigma1 = 0.25;\n",
    "sigma2 = 0.25;\n",
    "covar = -0.05;\n",
    "covneg = covar;\n",
    "Cd = [ [sigma1**2, covar], [covar, sigma2**2]];\n",
    "Cdinv = la.inv(Cd);\n",
    "sqrtdet = sqrt(la.det(Cd));\n",
    "\n",
    "# 2-d Normal p.d.f.\n",
    "p = np.zeros((Nd1,Nd2));\n",
    "dd = np.zeros((2,1));\n",
    "for i in range(Nd1):\n",
    "    for j in range(Nd2):\n",
    "        dd[:,0] = [ d1[i,0] - dbar1, d2[j,0] - dbar2 ];\n",
    "        E = np.matmul( np.matmul(dd.T,Cdinv), dd );\n",
    "        v = (1/(2*pi*sqrtdet)) * exp( -0.5*E );\n",
    "        p[i,j]=v;\n",
    "pneg = p;\n",
    "        \n",
    "# 2D normal p.f.d. setup\n",
    "# zero  covariance\n",
    "dbar1 = 1.5;\n",
    "dbar2 = 2.5;\n",
    "sigma1 = 0.25;\n",
    "sigma2 = 0.25;\n",
    "covar = 0.0;\n",
    "covzero = covar;\n",
    "Cd = [ [sigma1**2, covar], [covar, sigma2**2]];\n",
    "Cdinv = la.inv(Cd);\n",
    "sqrtdet = sqrt(la.det(Cd));\n",
    "\n",
    "# 2-d Normal p.d.f.\n",
    "p = np.zeros((Nd1,Nd2));\n",
    "dd = np.zeros((2,1));\n",
    "for i in range(Nd1):\n",
    "    for j in range(Nd2):\n",
    "        dd[:,0] = [ d1[i,0] - dbar1, d2[j,0] - dbar2 ];\n",
    "        E = np.matmul( np.matmul(dd.T,Cdinv), dd );\n",
    "        v = (1/(2*pi*sqrtdet)) * exp( -0.5*E );\n",
    "        p[i,j]=v;\n",
    "pzero=p;\n",
    "\n",
    "# eda03_17\n",
    "# covariance, computed from p\n",
    "D12 = np.matmul( (d1-dbar1), (d2-dbar2).T );\n",
    "covpos_a = Dd1*Dd2*np.sum( np.multiply(D12, ppos) );\n",
    "covneg_a = Dd1*Dd2*np.sum( np.multiply(D12, pneg) );\n",
    "covzero_a = Dd1*Dd2*np.sum( np.multiply(D12, pzero) );\n",
    "\n",
    "print( 'cov +:', covpos, covpos_a );\n",
    "print( 'cov -:', covneg, covneg_a );\n",
    "print( 'cov 0:', covzero, covzero_a );\n",
    "\n",
    "eda_draw( 'title cov +', ppos, 'title cov -', pneg, 'title cov 0', pzero);"
   ]
  },
  {
   "cell_type": "code",
   "execution_count": null,
   "metadata": {},
   "outputs": [],
   "source": []
  }
 ],
 "metadata": {
  "kernelspec": {
   "display_name": "Python 3",
   "language": "python",
   "name": "python3"
  },
  "language_info": {
   "codemirror_mode": {
    "name": "ipython",
    "version": 3
   },
   "file_extension": ".py",
   "mimetype": "text/x-python",
   "name": "python",
   "nbconvert_exporter": "python",
   "pygments_lexer": "ipython3",
   "version": "3.7.7"
  }
 },
 "nbformat": 4,
 "nbformat_minor": 4
}
